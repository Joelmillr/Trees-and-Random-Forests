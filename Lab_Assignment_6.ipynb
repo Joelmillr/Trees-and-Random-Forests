{
 "cells": [
  {
   "cell_type": "code",
   "execution_count": 1,
   "metadata": {},
   "outputs": [],
   "source": [
    "# You can import *ANYTHING* you want here.\n",
    "import numpy as np\n",
    "import matplotlib.pyplot as plt\n",
    "import matplotlib as mpl\n",
    "from sklearn.tree import DecisionTreeClassifier\n",
    "from sklearn.ensemble import BaggingClassifier, RandomForestClassifier\n",
    "from sklearn.metrics import accuracy_score\n",
    "import pandas as pd\n",
    "from tqdm import tqdm # this is just a tool to show a progress bar as your simulations are running"
   ]
  },
  {
   "cell_type": "markdown",
   "metadata": {},
   "source": [
    "# Lab_Assignment 06: Trees and Random Forests\n",
    "\n",
    "Simulation is an incredibly useful tool in data science.  We can use simulation to evaluate how algorithms perform against ground truth, and how algorithms compare to one another.\n",
    "\n",
    "In this assignment, you will be implementing and extending the nested spheres simulation study found in *Elements of Statistical Learning* page 339. https://web.stanford.edu/~hastie/ElemStatLearn/\n",
    "\n",
    "# Nested Spheres\n",
    "\n",
    "Consider a dataset which contains 10 features $X_1 \\,, X_2 \\,, \\cdots \\,, X_{10}$.  The features are standard independent Gaussian random variables.  That is to say\n",
    "\n",
    "$$ X_j \\sim \\operatorname{Normal}(0,1) \\quad \\forall j = 1 \\dots 10$$\n",
    "\n",
    "We are going to use these features to study a classification problem.  You will have to create the target variable, $Y$ by computing the following rule:\n",
    "\n",
    "$$ Y = \\begin{cases}  1 \\quad \\mbox{ if } \\sum_{j=1}^{10} X^2_j>9.34 \\\\ 0 \\quad  \\mbox{else} \\end{cases}$$\n",
    "\n",
    "# The Simulation Study\n",
    "\n",
    "Follow these steps to complete the assignment. "
   ]
  },
  {
   "cell_type": "markdown",
   "metadata": {},
   "source": [
    "### Part 1 ( X / 25 pts )\n",
    "Write a function, `generate_data`, that takes a dataset size N and creates a dataset according to the rule above, returning the feature matrix `X` and the labels `y`."
   ]
  },
  {
   "cell_type": "code",
   "execution_count": 2,
   "metadata": {},
   "outputs": [],
   "source": [
    "def generate_data(N):\n",
    "    # Create feature matrix X and labels y\n",
    "\n",
    "    # Draw random samples from a multivariate normal distribution.\n",
    "    mean = np.zeros(10)\n",
    "    cov = np.eye(10)\n",
    "    X = np.random.multivariate_normal(mean = mean, cov = cov, size = N)\n",
    "    \n",
    "    # Calculate the sum to determine y\n",
    "    y = []\n",
    "    for x in X:\n",
    "        y.append(int(np.sum(x**2)>9.34))\n",
    "\n",
    "    return X,y"
   ]
  },
  {
   "cell_type": "code",
   "execution_count": 3,
   "metadata": {},
   "outputs": [],
   "source": [
    "# used for testing\n",
    "# generate_data(10)"
   ]
  },
  {
   "cell_type": "markdown",
   "metadata": {},
   "source": [
    "## Part 2 ( X / 25 pts )\n",
    "\n",
    "Write a function `run_simulation` that accepts two numbers, Ntrain and Ntest. It should generate a training set and testing set using your `generate_data` function and then train **four classifiers**. The first should be a bagged decision tree, the second should be a random forest with `max_features=1`, the third should be a random forest with `max_features=3`, and the fourth can be anything you like, for example a random forest with more features. Use 500 trees in your random forests and the bagged classifier. The function should return the accuracy for each of these models estimated using the training set you generated."
   ]
  },
  {
   "cell_type": "code",
   "execution_count": 4,
   "metadata": {},
   "outputs": [],
   "source": [
    "def run_simulation(Ntrain,Ntest):\n",
    "    # Code to generate data and run one simulation\n",
    "\n",
    "    # Generate a training and testing sets using generate_data function\n",
    "    X_train, y_train = generate_data(Ntrain)\n",
    "    X_test, y_test = generate_data(Ntest)\n",
    "    \n",
    "    # Train 4 Classifiers\n",
    "\n",
    "    #The first should be a bagged decision tree\n",
    "    bagged_decision_tree = BaggingClassifier(base_estimator=DecisionTreeClassifier(), n_estimators=500)\n",
    "    #The second should be a random forest with max_features=1\n",
    "    random_forest_1 = RandomForestClassifier(n_estimators=500, max_features=1)\n",
    "    #The third should be a random forest with max_features=3\n",
    "    random_forest_3 = RandomForestClassifier(n_estimators=500, max_features=3)\n",
    "    #The fourth can be anything you like\n",
    "    random_forest_6 = RandomForestClassifier(n_estimators=500, max_features=6)\n",
    "    \n",
    "    # Training the models\n",
    "    bagged_decision_tree.fit(X_train, y_train)\n",
    "    random_forest_1.fit(X_train, y_train)\n",
    "    random_forest_3.fit(X_train, y_train)\n",
    "    random_forest_6.fit(X_train, y_train)\n",
    "    \n",
    "    # Getting their accuracy\n",
    "    bag_accuracy = bagged_decision_tree.score(X_test, y_test)\n",
    "    rf_mf1_accuracy = random_forest_1.score(X_test, y_test)\n",
    "    rf_mf3_accuracy = random_forest_3.score(X_test, y_test)\n",
    "    my_classifier_accuracy = random_forest_6.score(X_test, y_test)\n",
    "    \n",
    "    return bag_accuracy, rf_mf1_accuracy, rf_mf3_accuracy, my_classifier_accuracy"
   ]
  },
  {
   "cell_type": "markdown",
   "metadata": {},
   "source": [
    "## Part 3 ( X / 25 pts )\n",
    "\n",
    "Run 50 simulations using a training set of size 1000 and a test set of size 5000 and record all the results in four vectors, one for each type of model. *You should probably debug your code using smaller training and test set sized first because these will take a while. The full simulation takes about 10 minutes on an old 2.8GHz core i5 laptop.*"
   ]
  },
  {
   "cell_type": "code",
   "execution_count": 5,
   "metadata": {},
   "outputs": [
    {
     "name": "stderr",
     "output_type": "stream",
     "text": [
      "100%|███████████████████████████████████████████| 50/50 [05:54<00:00,  7.10s/it]\n"
     ]
    }
   ],
   "source": [
    "#Setup code to record results here:\n",
    "Nsim = 50\n",
    "bag_accuracy = np.zeros(Nsim)\n",
    "rf_mf1_accuracy = np.zeros(Nsim)\n",
    "rf_mf3_accuracy = np.zeros(Nsim)\n",
    "my_classifier_accuracy = np.zeros(Nsim)\n",
    "\n",
    "#Loop to run simulations:\n",
    "for sim in tqdm(range(Nsim)):\n",
    "    # Run simulations, collect data\n",
    "    bag_accuracy[sim], rf_mf1_accuracy[sim], rf_mf3_accuracy[sim], my_classifier_accuracy[sim] = run_simulation(1000, 5000)\n"
   ]
  },
  {
   "cell_type": "markdown",
   "metadata": {},
   "source": [
    "## Part 4 (X / 25 pts) \n",
    "Plot the error rates for each model using a boxplot for each one. The four models should be across the x-axis, and the y-axis should be accuracy."
   ]
  },
  {
   "cell_type": "code",
   "execution_count": 6,
   "metadata": {},
   "outputs": [
    {
     "data": {
      "text/plain": [
       "<AxesSubplot:>"
      ]
     },
     "execution_count": 6,
     "metadata": {},
     "output_type": "execute_result"
    },
    {
     "data": {
      "image/png": "[encoded data removed]",
      "text/plain": [
       "<Figure size 432x288 with 1 Axes>"
      ]
     },
     "metadata": {
      "needs_background": "light"
     },
     "output_type": "display_data"
    }
   ],
   "source": [
    "#Plot the error rates as a box plot by model to complete the assignment.\n",
    "bag_error = 1 - bag_accuracy\n",
    "rf_mf1_error = 1 - rf_mf1_accuracy\n",
    "rf_mf3_error = 1 - rf_mf3_accuracy\n",
    "my_classifier_error = 1 - my_classifier_accuracy\n",
    "error_rates = pd.DataFrame({'bagged decision tree': bag_error, 'randon forest 1': rf_mf1_error, 'randon forest 3': rf_mf3_error, 'randon forest 6': my_classifier_error})\n",
    "\n",
    "error_rates.boxplot()\n"
   ]
  },
  {
   "cell_type": "code",
   "execution_count": null,
   "metadata": {},
   "outputs": [],
   "source": []
  }
 ],
 "metadata": {
  "kernelspec": {
   "display_name": "Python 3 (ipykernel)",
   "language": "python",
   "name": "python3"
  },
  "language_info": {
   "codemirror_mode": {
    "name": "ipython",
    "version": 3
   },
   "file_extension": ".py",
   "mimetype": "text/x-python",
   "name": "python",
   "nbconvert_exporter": "python",
   "pygments_lexer": "ipython3",
   "version": "3.9.12"
  }
 },
 "nbformat": 4,
 "nbformat_minor": 4
}
